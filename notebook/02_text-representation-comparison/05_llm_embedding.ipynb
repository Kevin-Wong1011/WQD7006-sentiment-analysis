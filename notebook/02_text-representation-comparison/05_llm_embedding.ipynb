{
  "cells": [
    {
      "cell_type": "markdown",
      "metadata": {},
      "source": [
        "# Sentiment Analysis with Large Language Model embeddings\n",
        "\n",
        "## Our Dataset\n",
        "\n",
        "This dataset describes the contents of the heart-disease diagnosis.\n",
        "\n",
        "The dataset in this study is from [Kaggle](https://www.kaggle.com/datasets/crowdflower/twitter-airline-sentiment/data), which is called Twitter US Airline Sentiment.\n",
        "\n",
        "- Dataset: https://www.kaggle.com/datasets/crowdflower/twitter-airline-sentiment/data\n",
        "\n",
        "## Variable Table\n",
        "\n",
        "| Original Dataset             | Data Type     | Description    |                                                         \n",
        "|------------------------------|---------------|---------------------------------------------------------------------------------------------|\n",
        "| tweet_id                     | ID            | A unique identifier for each tweet.                                                         | \n",
        "| airline_sentiment            | Categorical   | The sentiment expressed in the tweet (positive, neutral, negative).                         | \n",
        "| airline_sentiment_confidence | Numerical     | Confidence score in the sentiment label (0 to 1).                                           | \n",
        "| negativereason               | Categorical   | Reason for negative sentiment (e.g., \"Late Flight\", \"Customer Service Issue\").              | \n",
        "| negativereason_confidence    | Numerical     | Confidence score in the negative reason label (0 to 1).                                     | \n",
        "| airline                      | Categorical   | The airline mentioned in the tweet (e.g., United, Delta, etc.).                             | \n",
        "| airline_sentiment_gold       | Categorical   | Sentiment label by trusted annotator (gold standard).                                       | \n",
        "| name                         | Text          | Name of the user who posted the tweet.                                                      | \n",
        "| negativereason_gold          | Categorical   | Negative reason label by trusted annotator (gold standard).                                 | \n",
        "| retweet_count                | Numerical     | Number of times the tweet was retweeted.                                                    | \n",
        "| text                         | Text          | The full content of the tweet.                                                              | \n",
        "| tweet_coord                  | Geospatial    | Latitude and longitude coordinates where the tweet was posted, if available.                | \n",
        "| tweet_created                | Datetime      | Timestamp when the tweet was created.                                                       | \n",
        "| tweet_location               | Text          | Location specified in the user's profile.                                                   | \n",
        "| user_timezone                | Categorical   | Time zone specified in the user's profile.                                                  | \n",
        "\n",
        "<br/>\n",
        "\n",
        "## Data Used for Modeling\n",
        "\n",
        "| Feature                      | Data Type   | Description  |\n",
        "|-----------------------------|-------------|--------------|\n",
        "| **Target Variable: `encoded_sentiment`** | Categorical | This is an engineered variable derived from `airline_sentiment` for multi-class sentiment classification. It encodes sentiment as: 0 = Negative, 1 = Neutral, 2 = Positive. |\n",
        "| **Feature: `text`**         | Text        | Contains consumer tweets about U.S. airlines. This field undergoes preprocessing, including removal of URLs and mentions (`@`), and stopword removal |\n",
        "\n",
        "\n",
        "<br/>"
      ]
    },
    {
      "cell_type": "markdown",
      "metadata": {
        "id": "MOda8zvDG_Dr"
      },
      "source": [
        "# 1. Load Data"
      ]
    },
    {
      "cell_type": "code",
      "execution_count": null,
      "metadata": {
        "id": "c48xxsXVYTVX"
      },
      "outputs": [],
      "source": [
        "import pandas as pd\n",
        "\n",
        "# Load the dataset\n",
        "df = pd.read_csv(\"../../data/tweets.csv\")"
      ]
    },
    {
      "cell_type": "code",
      "execution_count": null,
      "metadata": {},
      "outputs": [],
      "source": [
        "# Show basic info\n",
        "df.info()"
      ]
    },
    {
      "cell_type": "code",
      "execution_count": null,
      "metadata": {
        "colab": {
          "base_uri": "https://localhost:8080/",
          "height": 451
        },
        "id": "506zNhdXYOyS",
        "outputId": "dc47c80f-905b-40b1-b2ef-ff52f5be0dbd"
      },
      "outputs": [],
      "source": [
        "# Show the first few rows\n",
        "df.head(3)"
      ]
    },
    {
      "cell_type": "markdown",
      "metadata": {
        "id": "162TfnxmYSgM"
      },
      "source": [
        "# 2. Data Preprocessing"
      ]
    },
    {
      "cell_type": "markdown",
      "metadata": {
        "id": "HR7oZ2rA6RGf"
      },
      "source": [
        "## 2.1 Handle Duplicates"
      ]
    },
    {
      "cell_type": "code",
      "execution_count": null,
      "metadata": {
        "colab": {
          "base_uri": "https://localhost:8080/"
        },
        "id": "TmzCb0Cd6RTH",
        "outputId": "de3cf7ee-adfd-4a62-8179-1a384b075664"
      },
      "outputs": [],
      "source": [
        "# Check for duplicate rows\n",
        "duplicate_rows = df[df.duplicated()]\n",
        "print(f\"Number of duplicate rows: {len(duplicate_rows)}\")\n",
        "\n",
        "# Drop duplicate rows\n",
        "df.drop_duplicates(inplace=True)"
      ]
    },
    {
      "cell_type": "code",
      "execution_count": null,
      "metadata": {
        "colab": {
          "base_uri": "https://localhost:8080/"
        },
        "id": "qCR61Dbt6TG9",
        "outputId": "636ce20f-e747-4164-98b9-4dad4c14d8cb"
      },
      "outputs": [],
      "source": [
        "# Confirm the shape after removal\n",
        "print(f\"Shape after dropping duplicates: {df.shape}\")"
      ]
    },
    {
      "cell_type": "markdown",
      "metadata": {
        "id": "6E2TL3cPYQ_b"
      },
      "source": [
        "## 2.2 Handle Missing Values"
      ]
    },
    {
      "cell_type": "code",
      "execution_count": null,
      "metadata": {
        "colab": {
          "base_uri": "https://localhost:8080/"
        },
        "id": "3QKZcizXmYOC",
        "outputId": "7e8b49c5-498a-4ec8-ee97-771df3186ecb"
      },
      "outputs": [],
      "source": [
        "# Check for missing values for each variables in the dataset\n",
        "print(\"\\nMissing values count for each variables:\")\n",
        "print(\"-------------------------------------------\")\n",
        "print(df.isnull().sum())\n",
        "\n",
        "print(\"\"\"\\n\\n**Note**: We won't remove any rows with missing values here as \n",
        "our main field we use is 'text' and 'airline_sentiment' column,\n",
        "which has no missing values\"\"\")"
      ]
    },
    {
      "cell_type": "markdown",
      "metadata": {
        "id": "DYy8fCwcZUH5"
      },
      "source": [
        "## 2.3 Text Processing"
      ]
    },
    {
      "cell_type": "code",
      "execution_count": null,
      "metadata": {},
      "outputs": [],
      "source": [
        "from nltk.tokenize import word_tokenize\n",
        "from nltk.corpus import stopwords\n",
        "from nltk.stem import PorterStemmer\n",
        "import nltk\n",
        "\n",
        "nltk.download('punkt_tab')\n",
        "nltk.download('stopwords')\n",
        "nltk.download('wordnet')"
      ]
    },
    {
      "cell_type": "markdown",
      "metadata": {},
      "source": [
        "### 2.3.1 Feature Engineering"
      ]
    },
    {
      "cell_type": "markdown",
      "metadata": {},
      "source": [
        "For feature engineering in sentiment analysis, we will perform the following steps:\n",
        "\n",
        "- `Stopwords Removal`: Eliminating common words (e.g., \"the\", \"is\", \"and\") that don't contribute meaningful information."
      ]
    },
    {
      "cell_type": "code",
      "execution_count": null,
      "metadata": {
        "id": "axOWklH0wfRE"
      },
      "outputs": [],
      "source": [
        "import re\n",
        "\n",
        "# Initialize stopwords, stemmer\n",
        "stop_words = set(stopwords.words('english'))\n",
        "\n",
        "# Step 1: Lowercase and clean the text\n",
        "def clean_text(text):\n",
        "    text = text.lower()                                 # Lowercase\n",
        "    text = re.sub(r\"http\\S+|www\\S+|https\\S+\", '', text) # Remove URLs\n",
        "    text = re.sub(r'@\\w+', '', text)                    # Remove mentions\n",
        "    # text = re.sub(r'#\\w+', '', text)                    # NOTE: Do not remove hashtags, \n",
        "                                                                # as there is a lot of hashtags with sentiment indication, \n",
        "                                                                # such as '#thankyou', '#happycustomer', etc...\n",
        "    # text = re.sub(r'[^a-z\\s]', '', text)                # NOTE: no need to remove numbers and punctuation for llm embedding\n",
        "    text = re.sub(r'\\s+', ' ', text).strip()\n",
        "    return text\n",
        "\n",
        "# Copy only the 'text' column to df_copy\n",
        "df2 = df[['text', 'airline_sentiment']].copy()\n",
        "\n",
        "# processed text after rule-based removing URL, twitter username\n",
        "df2['clean_text'] = df2['text'].apply(clean_text)\n",
        "\n"
      ]
    },
    {
      "cell_type": "code",
      "execution_count": null,
      "metadata": {},
      "outputs": [],
      "source": [
        "df2.shape"
      ]
    },
    {
      "cell_type": "code",
      "execution_count": null,
      "metadata": {},
      "outputs": [],
      "source": [
        "# Check for missing values per column\n",
        "print(\"\\nMissing values per column:\")\n",
        "print(df2.isnull().sum())"
      ]
    },
    {
      "cell_type": "markdown",
      "metadata": {
        "id": "iyXO_XyyWhaO"
      },
      "source": [
        "### 2.3.2 Target Engineering"
      ]
    },
    {
      "cell_type": "markdown",
      "metadata": {},
      "source": [
        "We will convert the 'airline_sentiment' column into numerical values to use it as the target variable in our model, where `negative` = 0, `neutral` = 1, and `positive` = 2 "
      ]
    },
    {
      "cell_type": "code",
      "execution_count": null,
      "metadata": {
        "id": "QgxJ-qbEVYOY"
      },
      "outputs": [],
      "source": [
        "print(\"The target variable contains unique values of: \", df2['airline_sentiment'].unique(), \n",
        "      \"which we are going to map it into 0, 1 and 2 respectively\")\n",
        "\n",
        "# Encode the sentiment column\n",
        "df2['encoded_sentiment'] = df2['airline_sentiment'].map({\"negative\": 0, \"neutral\": 1, \"positive\": 2})\n"
      ]
    },
    {
      "cell_type": "markdown",
      "metadata": {},
      "source": [
        "## 3.0 Data Preparation for Modeling"
      ]
    },
    {
      "cell_type": "code",
      "execution_count": null,
      "metadata": {},
      "outputs": [],
      "source": [
        "df2"
      ]
    },
    {
      "cell_type": "code",
      "execution_count": null,
      "metadata": {},
      "outputs": [],
      "source": [
        "# Split into features (X) and target labels (y)\n",
        "X = df2['clean_text']\n",
        "y = df2['encoded_sentiment']"
      ]
    },
    {
      "cell_type": "markdown",
      "metadata": {},
      "source": [
        "### 3.1 Train test split with stratified sampling"
      ]
    },
    {
      "cell_type": "code",
      "execution_count": null,
      "metadata": {
        "id": "1sEyd2cK2JFr"
      },
      "outputs": [],
      "source": [
        "from sklearn.model_selection import train_test_split\n",
        "\n",
        "# Split before SMOTE\n",
        "X_train, X_test, y_train, y_test = train_test_split(X, y, \n",
        "                                        stratify=y,            \n",
        "                                        test_size=0.2, \n",
        "                                        random_state=42)"
      ]
    },
    {
      "cell_type": "code",
      "execution_count": null,
      "metadata": {},
      "outputs": [],
      "source": [
        "pd.concat([X_train, y_train], axis=1).to_csv(\"../../data/train.csv\")\n",
        "pd.concat([X_test, y_test], axis=1).to_csv(\"../../data/test.csv\")"
      ]
    },
    {
      "cell_type": "code",
      "execution_count": null,
      "metadata": {},
      "outputs": [],
      "source": [
        "# Verify that class distribution is preserved after the train-test split (i.e., stratified correctly)\n",
        "\n",
        "print(\"Train class distribution:\")\n",
        "print(y_train.value_counts(normalize=True))\n",
        "\n",
        "print(\"\\nTest class distribution:\")\n",
        "print(y_test.value_counts(normalize=True))\n",
        "\n",
        "print(\"\"\"\\n**Observation**: The class proportions appear to be preserved across the training and test sets, \n",
        "indicating a successful stratified split.\"\"\")"
      ]
    },
    {
      "cell_type": "markdown",
      "metadata": {},
      "source": [
        "### 3.2 Text Representation with LLM embedding"
      ]
    },
    {
      "cell_type": "code",
      "execution_count": null,
      "metadata": {},
      "outputs": [],
      "source": [
        "import os\n",
        "import pandas as pd \n",
        "from utils.prepare_llm_embedding import generate_embeddings_from_series \n",
        "\n",
        "EMBEDDING_TRAIN = \"../../data/llm_embedding_train.csv\"\n",
        "if os.path.exists(EMBEDDING_TRAIN):\n",
        "    pass\n",
        "else:\n",
        "    processed_text_series = pd.Series(X_train.to_list(),\n",
        "                                    index=X_train.index.to_list()) \n",
        "    llm_embedding = generate_embeddings_from_series(processed_text_series,\n",
        "                            additional_data={\"encoded_sentiment\": y_train.to_list()},\n",
        "                            output_csv_path=\"../../data/llm_embedding_train.csv\",\n",
        "                            max_workers=20)\n",
        "    print(llm_embedding)"
      ]
    },
    {
      "cell_type": "code",
      "execution_count": null,
      "metadata": {},
      "outputs": [],
      "source": [
        "import pandas as pd \n",
        "from utils.prepare_llm_embedding import generate_embeddings_from_series \n",
        "\n",
        "EMBEDDING_TEST = \"../../data/llm_embedding_test.csv\"\n",
        "if os.path.exists(EMBEDDING_TEST):\n",
        "    pass\n",
        "else:\n",
        "    processed_text_series = pd.Series(X_test.to_list(), \n",
        "                                    index=X_test.index.to_list()) \n",
        "    llm_embedding = generate_embeddings_from_series(processed_text_series,\n",
        "                            additional_data={\"encoded_sentiment\": y_test.to_list()},\n",
        "                            output_csv_path=\"../../data/llm_embedding_test.csv\",\n",
        "                            max_workers=20) \n",
        "    print(llm_embedding)"
      ]
    },
    {
      "cell_type": "code",
      "execution_count": null,
      "metadata": {},
      "outputs": [],
      "source": [
        "import numpy\n",
        "import json\n",
        "\n",
        "train_vectorized = pd.read_csv(\"../../data/llm_embedding_train.csv\")\n",
        "test_vectorized = pd.read_csv(\"../../data/llm_embedding_test.csv\")\n",
        "\n",
        "X_train_vectorized = train_vectorized[\"embedding_json\"].apply(json.loads) # convert string into a list of 765 items in 1 column\n",
        "X_train_vectorized = numpy.vstack(X_train_vectorized) # turn that list of 765 items into 765 features / columns\n",
        "y_train = train_vectorized[\"encoded_sentiment\"]\n",
        "\n",
        "X_test_vectorized = test_vectorized[\"embedding_json\"].apply(json.loads)\n",
        "X_test_vectorized = numpy.vstack(X_test_vectorized)\n",
        "y_test = test_vectorized[\"encoded_sentiment\"]"
      ]
    },
    {
      "cell_type": "markdown",
      "metadata": {},
      "source": [
        "### 3.3 Handling class imbalance issue with SMOTE"
      ]
    },
    {
      "cell_type": "code",
      "execution_count": null,
      "metadata": {
        "id": "4UxzlN66l61P"
      },
      "outputs": [],
      "source": [
        "from imblearn.over_sampling import SMOTE\n",
        "\n",
        "# Handling imbalanced using SMOTE\n",
        "smote = SMOTE(random_state=42)\n",
        "X_train_resampled, y_train_resampled = smote.fit_resample(X_train_vectorized, y_train)"
      ]
    },
    {
      "cell_type": "code",
      "execution_count": null,
      "metadata": {
        "colab": {
          "base_uri": "https://localhost:8080/"
        },
        "id": "VC_xi5cMoIi8",
        "outputId": "39644d0c-12a5-4a81-8023-53af08425342"
      },
      "outputs": [],
      "source": [
        "# Check class distribution before and after applying SMOTE to confirm successful balancing\n",
        "\n",
        "print(\"Class distribution in training set (before SMOTE):\")\n",
        "print(y_train.value_counts())\n",
        "\n",
        "print(\"\\nClass distribution in training set (after SMOTE):\")\n",
        "print(y_train_resampled.value_counts())\n",
        "\n",
        "print(\"\"\"\\n**Observation**: The class distribution in the training set has been balanced after applying SMOTE, \n",
        "confirming that oversampling was successful.\"\"\")\n"
      ]
    },
    {
      "cell_type": "markdown",
      "metadata": {
        "id": "w2diDHuHrrwV"
      },
      "source": [
        "## 4.0 Modeling"
      ]
    },
    {
      "cell_type": "markdown",
      "metadata": {},
      "source": [
        "(i) Logistic Regression"
      ]
    },
    {
      "cell_type": "code",
      "execution_count": null,
      "metadata": {},
      "outputs": [],
      "source": [
        "from sklearn.linear_model import LogisticRegression\n",
        "from sklearn.metrics import accuracy_score, classification_report, confusion_matrix\n",
        "\n",
        "# Initialize the Logistic Regression model\n",
        "model = LogisticRegression(max_iter=1000, random_state=42)\n",
        "\n",
        "# Train the model\n",
        "model.fit(X_train_resampled, y_train_resampled)\n",
        "\n",
        "# Predictions on training and test sets\n",
        "y_train_pred = model.predict(X_train_resampled)\n",
        "y_test_pred = model.predict(X_test_vectorized)\n",
        "\n",
        "# Accuracy scores\n",
        "train_accuracy = accuracy_score(y_train_resampled, y_train_pred)\n",
        "test_accuracy = accuracy_score(y_test, y_test_pred)\n",
        "\n",
        "# Output\n",
        "print(f\"Train Accuracy: {train_accuracy:.4f}\")\n",
        "print(f\"Test Accuracy:  {test_accuracy:.4f}\\n\")\n",
        "\n",
        "print(\"Classification Report (Test):\")\n",
        "print(classification_report(y_test, y_test_pred))\n",
        "\n",
        "print(\"Confusion Matrix (Test):\")\n",
        "print(confusion_matrix(y_test, y_test_pred))"
      ]
    },
    {
      "cell_type": "markdown",
      "metadata": {},
      "source": [
        "(ii) Decision Tree"
      ]
    },
    {
      "cell_type": "code",
      "execution_count": null,
      "metadata": {
        "colab": {
          "base_uri": "https://localhost:8080/"
        },
        "id": "wyZAwecKrwN4",
        "outputId": "54ba3649-b3c6-41d3-de2f-93ad5596c9c4"
      },
      "outputs": [],
      "source": [
        "from sklearn.tree import DecisionTreeClassifier\n",
        "from sklearn.metrics import accuracy_score, classification_report, confusion_matrix\n",
        "\n",
        "# Initialize the Decision Tree\n",
        "dt_model = DecisionTreeClassifier() # max_depth=768, \n",
        "                                  # min_samples_split=10, \n",
        "                                  # criterion='entropy', \n",
        "                                  # min_samples_leaf=100)\n",
        "\n",
        "# Train the model\n",
        "dt_model.fit(X_train_resampled, y_train_resampled)\n",
        "\n",
        "# Predictions on training and test sets\n",
        "y_train_pred = dt_model.predict(X_train_resampled)\n",
        "y_test_pred = dt_model.predict(X_test_vectorized)\n",
        "\n",
        "# Accuracy scores\n",
        "train_accuracy = accuracy_score(y_train_resampled, y_train_pred)\n",
        "test_accuracy = accuracy_score(y_test, y_test_pred)\n",
        "\n",
        "# Output\n",
        "print(f\"Train Accuracy: {train_accuracy:.4f}\")\n",
        "print(f\"Test Accuracy:  {test_accuracy:.4f}\\n\")\n",
        "\n",
        "print(\"Classification Report (Test):\")\n",
        "print(classification_report(y_test, y_test_pred))\n",
        "\n",
        "print(\"Confusion Matrix (Test):\")\n",
        "print(confusion_matrix(y_test, y_test_pred))"
      ]
    },
    {
      "cell_type": "markdown",
      "metadata": {},
      "source": [
        "(iii) Gradient Boosting"
      ]
    },
    {
      "cell_type": "code",
      "execution_count": null,
      "metadata": {},
      "outputs": [],
      "source": [
        "from sklearn.ensemble import GradientBoostingClassifier\n",
        "from sklearn.metrics import accuracy_score, classification_report, confusion_matrix\n",
        "\n",
        "# Initialize the Decision Tree\n",
        "gb_model = GradientBoostingClassifier(max_depth=768, \n",
        "                                      min_samples_split=10, \n",
        "                                      min_samples_leaf=100)\n",
        "\n",
        "# Train the model\n",
        "gb_model.fit(X_train_resampled, y_train_resampled)\n",
        "\n",
        "# Predictions on training and test sets\n",
        "y_train_pred = gb_model.predict(X_train_resampled)\n",
        "y_test_pred = gb_model.predict(X_test_vectorized)\n",
        "\n",
        "# Accuracy scores\n",
        "train_accuracy = accuracy_score(y_train_resampled, y_train_pred)\n",
        "test_accuracy = accuracy_score(y_test, y_test_pred)\n",
        "\n",
        "# Output\n",
        "print(f\"Train Accuracy: {train_accuracy:.4f}\")\n",
        "print(f\"Test Accuracy:  {test_accuracy:.4f}\\n\")\n",
        "\n",
        "print(\"Classification Report (Test):\")\n",
        "print(classification_report(y_test, y_test_pred))\n",
        "\n",
        "print(\"Confusion Matrix (Test):\")\n",
        "print(confusion_matrix(y_test, y_test_pred))\n"
      ]
    },
    {
      "cell_type": "markdown",
      "metadata": {},
      "source": [
        "## 5.0 Feature Importance"
      ]
    },
    {
      "cell_type": "code",
      "execution_count": null,
      "metadata": {},
      "outputs": [],
      "source": [
        "import matplotlib.pyplot as plt\n",
        "from sklearn.tree import plot_tree\n",
        "\n",
        "# Plot decision tree\n",
        "plt.figure(figsize=(200, 200))\n",
        "plot_tree(dt_model, filled=True, max_depth=5, \n",
        "          feature_names=None, \n",
        "          class_names=[\"Negative\", \"Neutral\", \"Positive\"])\n",
        "plt.show()"
      ]
    },
    {
      "cell_type": "markdown",
      "metadata": {},
      "source": [
        "- Reference: https://medium.com/nlplanet/two-minutes-nlp-explain-predictions-with-shap-values-2a0e34219177"
      ]
    },
    {
      "cell_type": "code",
      "execution_count": null,
      "metadata": {},
      "outputs": [],
      "source": [
        "import shap\n",
        "\n",
        "# Create a SHAP explainer\n",
        "explainer = shap.Explainer(dt_model,\n",
        "                           X_train_resampled.toarray(), \n",
        "                           feature_names=None)\n",
        "\n",
        "# Compute SHAP values for the test set\n",
        "shap_values = explainer(X_test_vectorized.toarray())\n",
        "\n",
        "print(shap_values.values.shape)\n"
      ]
    },
    {
      "cell_type": "code",
      "execution_count": null,
      "metadata": {},
      "outputs": [],
      "source": [
        "shap.initjs()\n",
        "\n",
        "ind = 3\n",
        "print(f\"The sentiment of the {ind}-th row of text item is\",\n",
        "      y_test.replace({0: 'Negative', 1: 'Neutral', 2: 'Positive'}).iloc[ind])\n",
        "\n",
        "# print(X_test_vectorized[ind])\n",
        "shap.plots.waterfall(shap_values[ind,:,1])"
      ]
    },
    {
      "cell_type": "code",
      "execution_count": null,
      "metadata": {},
      "outputs": [],
      "source": [
        "shap.initjs()\n",
        "\n",
        "ind = 0\n",
        "print(f\"The sentiment of the {ind}-th row of text item is\", \n",
        "      y_test.replace({0: 'Negative', 1: 'Neutral', 2: 'Positive'}).iloc[ind])\n",
        "\n",
        "# print(X_test_vectorized[ind])\n",
        "shap.plots.waterfall(shap_values[ind,:,1])"
      ]
    },
    {
      "cell_type": "code",
      "execution_count": null,
      "metadata": {},
      "outputs": [],
      "source": [
        "# Let’s do the same with a negative review.\n",
        "\n",
        "ind = 122\n",
        "print(f\"The sentiment of the {ind}-th row of text item is\", \n",
        "      y_test.replace({0: 'Negative', 1: 'Neutral', 2: 'Positive'}).iloc[ind])\n",
        "\n",
        "shap.initjs()\n",
        "# print(X_test_vectorized[ind])\n",
        "shap.plots.waterfall(shap_values[ind,:,1])"
      ]
    }
  ],
  "metadata": {
    "colab": {
      "provenance": [],
      "toc_visible": true
    },
    "kernelspec": {
      "display_name": "py3.11",
      "language": "python",
      "name": "python3"
    },
    "language_info": {
      "codemirror_mode": {
        "name": "ipython",
        "version": 3
      },
      "file_extension": ".py",
      "mimetype": "text/x-python",
      "name": "python",
      "nbconvert_exporter": "python",
      "pygments_lexer": "ipython3",
      "version": "3.11.11"
    }
  },
  "nbformat": 4,
  "nbformat_minor": 0
}
